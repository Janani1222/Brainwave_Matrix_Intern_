{
  "nbformat": 4,
  "nbformat_minor": 0,
  "metadata": {
    "colab": {
      "provenance": [],
      "authorship_tag": "ABX9TyMi0zdPy4fNbI1/8T3veIJJ",
      "include_colab_link": true
    },
    "kernelspec": {
      "name": "python3",
      "display_name": "Python 3"
    },
    "language_info": {
      "name": "python"
    }
  },
  "cells": [
    {
      "cell_type": "markdown",
      "metadata": {
        "id": "view-in-github",
        "colab_type": "text"
      },
      "source": [
        "<a href=\"https://colab.research.google.com/github/Janani1222/Brainwave_Matrix_Intern_/blob/main/task_2.ipynb\" target=\"_parent\"><img src=\"https://colab.research.google.com/assets/colab-badge.svg\" alt=\"Open In Colab\"/></a>"
      ]
    },
    {
      "cell_type": "code",
      "execution_count": null,
      "metadata": {
        "colab": {
          "base_uri": "https://localhost:8080/"
        },
        "id": "jTvRTF58JHQZ",
        "outputId": "6ef5612c-eecb-4d6e-8840-178e847c2b2a"
      },
      "outputs": [
        {
          "output_type": "stream",
          "name": "stdout",
          "text": [
            "Dataset loaded successfully!\n",
            "Dataset shape: (284807, 31)\n",
            "Class distribution:\n",
            " Class\n",
            "0    284315\n",
            "1       492\n",
            "Name: count, dtype: int64\n",
            "\n",
            "Performing anomaly detection using Isolation Forest...\n",
            "\n",
            "Anomaly Detection Results:\n",
            "              precision    recall  f1-score   support\n",
            "\n",
            "           0       1.00      1.00      1.00     85295\n",
            "           1       0.21      0.24      0.23       148\n",
            "\n",
            "    accuracy                           1.00     85443\n",
            "   macro avg       0.60      0.62      0.61     85443\n",
            "weighted avg       1.00      1.00      1.00     85443\n",
            "\n",
            "ROC AUC Score: 0.6208302504978745\n",
            "Confusion Matrix:\n",
            " [[85160   135]\n",
            " [  112    36]]\n",
            "\n",
            "Handling imbalanced data with SMOTE...\n",
            "Class distribution after SMOTE:\n",
            " Class\n",
            "0    199020\n",
            "1     19902\n",
            "Name: count, dtype: int64\n",
            "\n",
            "Training supervised learning model (Logistic Regression)...\n"
          ]
        },
        {
          "output_type": "stream",
          "name": "stderr",
          "text": [
            "/usr/local/lib/python3.10/dist-packages/sklearn/linear_model/_logistic.py:469: ConvergenceWarning: lbfgs failed to converge (status=1):\n",
            "STOP: TOTAL NO. of ITERATIONS REACHED LIMIT.\n",
            "\n",
            "Increase the number of iterations (max_iter) or scale the data as shown in:\n",
            "    https://scikit-learn.org/stable/modules/preprocessing.html\n",
            "Please also refer to the documentation for alternative solver options:\n",
            "    https://scikit-learn.org/stable/modules/linear_model.html#logistic-regression\n",
            "  n_iter_i = _check_optimize_result(\n"
          ]
        },
        {
          "output_type": "stream",
          "name": "stdout",
          "text": [
            "\n",
            "Supervised Learning Results:\n",
            "              precision    recall  f1-score   support\n",
            "\n",
            "           0       1.00      1.00      1.00     85295\n",
            "           1       0.47      0.82      0.60       148\n",
            "\n",
            "    accuracy                           1.00     85443\n",
            "   macro avg       0.73      0.91      0.80     85443\n",
            "weighted avg       1.00      1.00      1.00     85443\n",
            "\n",
            "ROC AUC Score: 0.9592087793872774\n",
            "Confusion Matrix:\n",
            " [[85155   140]\n",
            " [   26   122]]\n"
          ]
        }
      ],
      "source": [
        "\n",
        "import pandas as pd\n",
        "import numpy as np\n",
        "from sklearn.model_selection import train_test_split\n",
        "from sklearn.linear_model import LogisticRegression\n",
        "from sklearn.ensemble import IsolationForest\n",
        "from sklearn.metrics import classification_report, roc_auc_score, confusion_matrix\n",
        "from imblearn.over_sampling import SMOTE\n",
        "url = \"https://storage.googleapis.com/download.tensorflow.org/data/creditcard.csv\"\n",
        "df = pd.read_csv(url)\n",
        "print(\"Dataset loaded successfully!\")\n",
        "print(f\"Dataset shape: {df.shape}\")\n",
        "print(\"Class distribution:\\n\", df[\"Class\"].value_counts())\n",
        "X = df.drop(columns=[\"Class\"])\n",
        "y = df[\"Class\"]\n",
        "X_train, X_test, y_train, y_test = train_test_split(X, y, test_size=0.3, random_state=42, stratify=y)\n",
        "print(\"\\nPerforming anomaly detection using Isolation Forest...\")\n",
        "iso_forest = IsolationForest(n_estimators=100, contamination=0.002, random_state=42)\n",
        "y_pred_anomaly = iso_forest.fit_predict(X_test)\n",
        "y_pred_anomaly = np.where(y_pred_anomaly == -1, 1, 0)\n",
        "print(\"\\nAnomaly Detection Results:\")\n",
        "print(classification_report(y_test, y_pred_anomaly))\n",
        "print(\"ROC AUC Score:\", roc_auc_score(y_test, y_pred_anomaly))\n",
        "print(\"Confusion Matrix:\\n\", confusion_matrix(y_test, y_pred_anomaly))\n",
        "print(\"\\nHandling imbalanced data with SMOTE...\")\n",
        "smote = SMOTE(sampling_strategy=0.1, random_state=42)\n",
        "X_train_smote, y_train_smote = smote.fit_resample(X_train, y_train)\n",
        "print(\"Class distribution after SMOTE:\\n\", pd.Series(y_train_smote).value_counts())\n",
        "print(\"\\nTraining supervised learning model (Logistic Regression)...\")\n",
        "lr_model = LogisticRegression(random_state=42, max_iter=1000)\n",
        "lr_model.fit(X_train_smote, y_train_smote)\n",
        "y_pred_supervised = lr_model.predict(X_test)\n",
        "y_proba_supervised = lr_model.predict_proba(X_test)[:, 1]\n",
        "print(\"\\nSupervised Learning Results:\")\n",
        "print(classification_report(y_test, y_pred_supervised))\n",
        "print(\"ROC AUC Score:\", roc_auc_score(y_test, y_proba_supervised))\n",
        "print(\"Confusion Matrix:\\n\", confusion_matrix(y_test, y_pred_supervised))\n"
      ]
    },
    {
      "cell_type": "code",
      "source": [
        "# Import necessary libraries\n",
        "import cv2\n",
        "import numpy as np\n",
        "from sklearn.model_selection import train_test_split\n",
        "from sklearn.ensemble import RandomForestClassifier\n",
        "\n",
        "# Step 1: Load and preprocess the fingerprint image\n",
        "def preprocess_fingerprint(image_path):\n",
        "    # Read the image\n",
        "    image = cv2.imread(image_path, cv2.IMREAD_GRAYSCALE)\n",
        "\n",
        "    # Apply GaussianBlur to reduce noise\n",
        "    blurred = cv2.GaussianBlur(image, (5,5),0)\n",
        "\n",
        "    # Apply thresholding to binarize the image\n",
        "    _, binary = cv2.threshold(blurred, 127, 255, cv2.THRESH_BINARY)\n",
        "\n",
        "    # Invert the image to get ridges as white and valleys as black\n",
        "    inverted = cv2.bitwise_not(binary)\n",
        "\n",
        "    return inverted\n",
        "\n",
        "# Example usage\n",
        "image_path = '/content/fingerprint_image.jpg' # Ensure this is the correct path to your image file\n",
        "preprocessed_image = preprocess_fingerprint(image_path)\n",
        "\n",
        "# Step 2: Feature extraction (this is a placeholder for actual feature extraction logic)\n",
        "def extract_features(image):\n",
        "    # Placeholder for actual feature extraction logic\n",
        "    # You would typically extract fingerprint minutiae points or other features\n",
        "    return np.random.rand(100)\n",
        "\n",
        "features = extract_features(preprocessed_image)\n",
        "\n",
        "# Step 3: Load your dataset and labels (this is a placeholder)\n",
        "# In practice, you need a well-labeled dataset of fingerprint images and their corresponding blood groups\n",
        "X = np.array([features for _ in range(100)])  # Placeholder for feature vectors\n",
        "y = np.random.choice(['A', 'B', 'AB', 'O'], 100)  # Placeholder for blood group labels\n",
        "\n",
        "# Step 4: Train a machine learning model\n",
        "X_train, X_test, y_train, y_test = train_test_split(X, y, test_size=0.2, random_state=42)\n",
        "classifier = RandomForestClassifier(n_estimators=100)\n",
        "classifier.fit(X_train, y_train)\n",
        "\n",
        "# Evaluate the model\n",
        "accuracy = classifier.score(X_test, y_test)\n",
        "print(f'Accuracy: {accuracy * 100:.2f}%')\n",
        "\n",
        "# Predict blood group from a new fingerprint image\n",
        "new_features = extract_features(preprocessed_image)\n",
        "predicted_blood_group = classifier.predict([new_features])\n",
        "print(f'Predicted Blood Group: {predicted_blood_group[0]}')\n"
      ],
      "metadata": {
        "colab": {
          "base_uri": "https://localhost:8080/"
        },
        "id": "lYBxFRzzmdaj",
        "outputId": "e0a4d9e9-bdff-4001-fce9-2bee27a81f64"
      },
      "execution_count": 15,
      "outputs": [
        {
          "output_type": "stream",
          "name": "stdout",
          "text": [
            "Accuracy: 40.00%\n",
            "Predicted Blood Group: B\n"
          ]
        }
      ]
    }
  ]
}